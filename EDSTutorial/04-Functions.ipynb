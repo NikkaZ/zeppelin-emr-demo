﻿{
  "metadata": {
    "name": "04-Functions",
    "kernelspec": {
      "language": "scala",
      "name": "spark2-scala"
    },
    "language_info": {
      "codemirror_mode": "text/x-scala",
      "file_extension": ".scala",
      "mimetype": "text/x-scala",
      "name": "scala",
      "pygments_lexer": "scala"
    }
  },
  "nbformat": 4,
  "nbformat_minor": 2,
  "cells": [
    {
      "cell_type": "markdown",
      "metadata": {},
      "source": "List of functions that has already been covered in the other notebooks:\n - SAS Sum Function\n - SAS Basic Math\n - SAS Trim/Compress\n - SAS Rename\n - SAS mean, min, max\n\nList of functions shown in this notebook:\n - SAS Upcase, Lowcase\n - SAS Combine text\n - SAS Substr\n - SAS Proc Transpose\n\n"
    },
    {
      "cell_type": "code",
      "execution_count": 1,
      "metadata": {
        "autoscroll": "auto"
      },
      "outputs": [],
      "source": "%pyspark\ndf \u003d runquery(\"select * from test742\")"
    },
    {
      "cell_type": "code",
      "execution_count": 2,
      "metadata": {
        "autoscroll": "auto"
      },
      "outputs": [],
      "source": "%pyspark\nfrom pyspark.sql.functions import col, lower \n\nprint(\"*** Trim\")\ndf.select(df.CARD_BRAND).groupby(df.CARD_BRAND).count().show()\n\ndf1 \u003d df.withColumn(\"CARD_BRAND\", trim(col(\"CARD_BRAND\"))) \\\n                .withColumn(\"REASON_CODE_DESCRIPTION\", trim(col(\"REASON_CODE_DESCRIPTION\")))\ndf1.select(df1.CARD_BRAND).groupby(df1.CARD_BRAND).count().show()\n\nprint(\"*** ISSUER_COUNTRY_CODE contains E\")\ndf1.select(df1.LU_NAME, df1.ISSUER_COUNTRY_CODE.alias(\u0027ICC\u0027)).filter(df1.ISSUER_COUNTRY_CODE.contains(\u0027E\u0027)).show(10)\n\nprint(\"*** ISSUER_COUNTRY_CODE starts with E\")\ndf1.select(df1.ISSUER_COUNTRY_CODE).filter(df1.ISSUER_COUNTRY_CODE.startswith(\u0027E\u0027)).show(10)\n\nprint(\"*** ISSUER_COUNTRY_CODE ends with E\")\ndf1.select(df1.ISSUER_COUNTRY_CODE).filter(df1.ISSUER_COUNTRY_CODE.endswith(\u0027E\u0027)).show(10)\n\nprint(\"*** LU_NAME lower\")\ndf1.select(lower(df1.LU_NAME), df1.ISSUER_COUNTRY_CODE.alias(\u0027ICC\u0027)).filter(df1.ISSUER_COUNTRY_CODE.endswith(\u0027E\u0027)).show(10)\n\nprint(\"*** LU_NAME substring\")\ndf1.select(df1.LU_NAME, df1.LU_NAME.substr(1,3)).show(10)"
    },
    {
      "cell_type": "code",
      "execution_count": 3,
      "metadata": {
        "autoscroll": "auto"
      },
      "outputs": [],
      "source": "%pyspark\ndf_pivot \u003d runquery(\"select trim(LU_NAME) as name, trim(CARD_BRAND) as card, count(*) as count_rows from test742 group by trim(LU_NAME), trim(CARD_BRAND)\")\ndf_pivot.show()\ndf_pivot.groupby(\"CARD\").pivot(\"NAME\").sum(\"COUNT_ROWS\").show()\n"
    },
    {
      "cell_type": "code",
      "execution_count": 4,
      "metadata": {
        "autoscroll": "auto"
      },
      "outputs": [],
      "source": "%pyspark\nfrom pyspark.sql.functions import col \n\ndef getCountry(code):\n    thedict\u003d{\"US\":\"United States\",\"ITA\":\"Italy\",\"ES\":\"Spain\",\"FR\":\"France\",\"IE\":\"Ireland\",\"PRT\":\"Portugal\",\"DEFAULT\":\"Not Found\"}\n    if(thedict.get(code) !\u003dNone):\n        resStr \u003d thedict.get(code)\n    else:\n        resStr \u003d thedict.get(\"DEFAULT\")\n    return resStr\n\ndf_udf \u003d df.withColumn(\"ISSUER_COUNTRY_CODE\", trim(col(\"ISSUER_COUNTRY_CODE\"))).groupby(\"ISSUER_COUNTRY_CODE\").sum(\"TRANSACTION_AMOUNT\")\ndf_udf \u003d df_udf.select(\"ISSUER_COUNTRY_CODE\", col(\u0027sum(TRANSACTION_AMOUNT)\u0027).alias(\u0027sumTransaction\u0027))\n"
    },
    {
      "cell_type": "code",
      "execution_count": 5,
      "metadata": {
        "autoscroll": "auto"
      },
      "outputs": [],
      "source": "%pyspark\nfrom pyspark.sql.functions import col, udf\n#from pyspark.sql.types import StringType\n#udfdict \u003d udf(getCountry,StringType())\nudfgetCountry \u003d udf(getCountry)\ndf_udf.withColumn(\u0027COUNTRY_DESC\u0027,udfgetCountry(df_udf.ISSUER_COUNTRY_CODE)).show()"
    },
    {
      "cell_type": "code",
      "execution_count": 6,
      "metadata": {
        "autoscroll": "auto"
      },
      "outputs": [],
      "source": "%pyspark\nspark.udf.register(\"getCountry\", getCountry)\ndf_udf.createOrReplaceTempView(\"Test_Country\")\nspark.sql(\"select ISSUER_COUNTRY_CODE, getCountry(ISSUER_COUNTRY_CODE) as COUNTRY_DESC from Test_Country\").show()"
    },
    {
      "cell_type": "code",
      "execution_count": 7,
      "metadata": {
        "autoscroll": "auto"
      },
      "outputs": [],
      "source": "%spark.sql\nselect ISSUER_COUNTRY_CODE, getCountry(ISSUER_COUNTRY_CODE) as COUNTRY_DESC, sumTransaction from Test_Country WHERE NOT ISSUER_COUNTRY_CODE IS NULL and ISSUER_COUNTRY_CODE \u003c\u003e \"\";"
    },
    {
      "cell_type": "code",
      "execution_count": 8,
      "metadata": {
        "autoscroll": "auto"
      },
      "outputs": [],
      "source": "%spark.sql\n"
    }
  ]
}